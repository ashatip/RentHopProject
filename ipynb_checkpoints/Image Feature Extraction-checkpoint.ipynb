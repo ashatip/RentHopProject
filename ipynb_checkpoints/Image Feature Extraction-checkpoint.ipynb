{
 "cells": [
  {
   "cell_type": "markdown",
   "metadata": {},
   "source": [
    "## Feature Extraction from Images\n",
    "\n",
    "This notebook will:\n",
    "\n",
    "    1. Create a robust function to accept image urls in input and return a 1000 element float vector of features\n",
    "    2. Read in the renthop csv as a dataframe, and create a new series containing the url of the first image for each of the 50K plus rows\n",
    "    3. Iterate thru the series and build a new numpy array with 1000 columns, each containing the 1000 feature values for each picture.\n",
    "    4. Convert the numpy array to a dataframe, and then append it on the right to the renthop dataframe.\n",
    "    5. Output this new dataframe into a csv."
   ]
  },
  {
   "cell_type": "markdown",
   "metadata": {},
   "source": [
    "Let's import all the necessary libraries."
   ]
  },
  {
   "cell_type": "code",
   "execution_count": 152,
   "metadata": {},
   "outputs": [],
   "source": [
    "import requests\n",
    "from requests.exceptions import ConnectionError\n",
    "from keras.applications.resnet50 import ResNet50\n",
    "from keras.applications.vgg16 import VGG16\n",
    "from keras.preprocessing import image\n",
    "from keras.applications.vgg16 import preprocess_input, decode_predictions\n",
    "from keras.applications.resnet50 import preprocess_input, decode_predictions\n",
    "import numpy as np\n",
    "import time\n",
    "import pandas as pd"
   ]
  },
  {
   "cell_type": "markdown",
   "metadata": {},
   "source": [
    "Now we create two neural network models using VGG16 and ResNet50 weights (coefficient values)."
   ]
  },
  {
   "cell_type": "code",
   "execution_count": 18,
   "metadata": {
    "collapsed": true
   },
   "outputs": [],
   "source": [
    "vgg16_model = VGG16(weights='imagenet', include_top=True)\n",
    "resnet50_model = ResNet50(weights='imagenet')"
   ]
  },
  {
   "cell_type": "markdown",
   "metadata": {},
   "source": [
    "Now we create an array of length 1000 with all zeros.  This will be used for the features if there is an error in processing, such as no pictures listed or bad urls provided."
   ]
  },
  {
   "cell_type": "code",
   "execution_count": 74,
   "metadata": {
    "collapsed": true
   },
   "outputs": [],
   "source": [
    "error_array = np.zeros(1000)"
   ]
  },
  {
   "cell_type": "markdown",
   "metadata": {},
   "source": [
    "Now we create the main function 'ProcessImage'.  This function reads a url and makes predictions using a specified model.  See the comments in the function for a description of each section."
   ]
  },
  {
   "cell_type": "code",
   "execution_count": 309,
   "metadata": {},
   "outputs": [],
   "source": [
    "def ProcessImage(input_url, model):\n",
    "    ### first we get the image from the url and then write it to a temporary file 'buffer.jpg'\n",
    "    url = input_url\n",
    "    if url ==']':\n",
    "        return(error_array) # this returns the error array if the listing has no pictures.  \n",
    "    try: # try to get the url\n",
    "        r = requests.get(url, allow_redirects=True)\n",
    "    except: #ConnectionError:\n",
    "        return(error_array) # this returns the error array if the url is not formed correctly or points to a dead link\n",
    "    \n",
    "    data_type = r.headers.get('Content-Type')\n",
    "    if data_type != 'image/jpeg':\n",
    "        return(error_array) # this returns the error array if the image is not a picture\n",
    "    try:\n",
    "        file = open('buffer.jpg', 'wb')\n",
    "    except: \n",
    "        return(error_array) # this returns the error array if 'buffer.jpg' cannot be accessed\n",
    "    \n",
    "    file.write(r.content) # write the image to a buffer file\n",
    "    file.close()\n",
    "    \n",
    "    ### next, we read 'buffer.jpg' and resize and preprocess the image\n",
    "    img_path = 'buffer.jpg'\n",
    "    img = image.load_img(img_path, target_size=(224, 224)) # read the image from the buffer file and crop it\n",
    "    x = image.img_to_array(img)\n",
    "    x = np.expand_dims(x, axis=0)\n",
    "    x = preprocess_input(x)\n",
    "    \n",
    "    ## next we extract the 1000 features\n",
    "    features = model.predict(x)\n",
    "    \n",
    "    ## next, let's change all feature weights < .001 to 0\n",
    "    features[features < .001] = 0\n",
    "    \n",
    "    ## next we return the features\n",
    "    return(features[0])\n",
    "    \n",
    "    \n",
    "    "
   ]
  },
  {
   "cell_type": "markdown",
   "metadata": {},
   "source": [
    "Now let's try both the VGG16 model and the ResNet50 model and see which performs quickest."
   ]
  },
  {
   "cell_type": "code",
   "execution_count": 150,
   "metadata": {},
   "outputs": [
    {
     "name": "stdout",
     "output_type": "stream",
     "text": [
      "Predicted: [('n03761084', 'microwave', 0.09829877), ('n03782006', 'monitor', 0.095307335), ('n02906734', 'broom', 0.08151369)]\n",
      "1.027466058731079\n"
     ]
    }
   ],
   "source": [
    "start = time.time()\n",
    "ProcessImage('https://photos.renthop.com/2/6878465_d3ff71ae16aca93c88865a8151c05340.jpg', resnet50_model)\n",
    "end = time.time()\n",
    "print(end - start)"
   ]
  },
  {
   "cell_type": "code",
   "execution_count": 151,
   "metadata": {},
   "outputs": [
    {
     "name": "stdout",
     "output_type": "stream",
     "text": [
      "Predicted: [('n02977058', 'cash_machine', 0.13933799), ('n04125021', 'safe', 0.06972619), ('n04239074', 'sliding_door', 0.038677044)]\n",
      "0.7340161800384521\n"
     ]
    }
   ],
   "source": [
    "start = time.time()\n",
    "ProcessImage('https://photos.renthop.com/2/6878465_d3ff71ae16aca93c88865a8151c05340.jpg', vgg16_model)\n",
    "end = time.time()\n",
    "print(end - start)"
   ]
  },
  {
   "cell_type": "markdown",
   "metadata": {},
   "source": [
    "The VGG16 model seems to return quicker predictions (3/4 second) vs the ResNet50 model (1 second) so we'll use the VGG16 model.\n",
    "\n",
    "Let's read in the master csv and put it into a dataframe."
   ]
  },
  {
   "cell_type": "code",
   "execution_count": 153,
   "metadata": {},
   "outputs": [],
   "source": [
    "master_df = pd.read_csv('master_data.csv')"
   ]
  },
  {
   "cell_type": "code",
   "execution_count": 170,
   "metadata": {},
   "outputs": [
    {
     "data": {
      "text/plain": [
       "49352"
      ]
     },
     "execution_count": 170,
     "metadata": {},
     "output_type": "execute_result"
    }
   ],
   "source": [
    "len(master_df)"
   ]
  },
  {
   "cell_type": "code",
   "execution_count": 165,
   "metadata": {},
   "outputs": [],
   "source": [
    "photo_series = master_df['photos']"
   ]
  },
  {
   "cell_type": "code",
   "execution_count": 171,
   "metadata": {},
   "outputs": [
    {
     "data": {
      "text/plain": [
       "49352"
      ]
     },
     "execution_count": 171,
     "metadata": {},
     "output_type": "execute_result"
    }
   ],
   "source": [
    "len(photo_series)"
   ]
  },
  {
   "cell_type": "markdown",
   "metadata": {},
   "source": [
    "Now that we have a series of photo urls, let's create a series with just the urls for the first image."
   ]
  },
  {
   "cell_type": "code",
   "execution_count": 172,
   "metadata": {
    "collapsed": true
   },
   "outputs": [],
   "source": [
    "first_photo_series = photo_series.apply(lambda x: x.split(',')[0].replace('[',''))"
   ]
  },
  {
   "cell_type": "code",
   "execution_count": 177,
   "metadata": {},
   "outputs": [
    {
     "data": {
      "text/plain": [
       "49352"
      ]
     },
     "execution_count": 177,
     "metadata": {},
     "output_type": "execute_result"
    }
   ],
   "source": [
    "len(first_photo_series)"
   ]
  },
  {
   "cell_type": "markdown",
   "metadata": {},
   "source": [
    "Now we build a function to loop through the series of first images, crate the feature vector, and put that feature vector into a dataframe.  The most important part of this function is that it needs to be fault tolerant so that if it fails, we don't lose work.  This is accomplished by declaring a global variable in the function, and by enabling the function to start and end at specific points in the data."
   ]
  },
  {
   "cell_type": "code",
   "execution_count": 376,
   "metadata": {},
   "outputs": [],
   "source": [
    "## Function to extract features for specific sets of pictures\n",
    "## start will contain the starting index (beginning at 0)\n",
    "## end will contain the last index.  Interval is the reporting interval\n",
    "\n",
    "def Iterate_images(start, end, interval):\n",
    "    global feature_df\n",
    "    stop = end + 1 # always set the last paramater of range to last index + 1\n",
    "    ## extract features for each image, and append to the bottom of feature_frame\n",
    "    for i in range(start, stop):\n",
    "        url = first_photo_series[i]\n",
    "        features = ProcessImage(url, vgg16_model) # extract the 1000 features\n",
    "        total = sum(features)\n",
    "        slice_df = pd.DataFrame(features).transpose() # convert into a 1 row, 1000 column datafram\n",
    "        slice_df.insert(0, 'url', url) # insert a column into this dataframe that contains the image url\n",
    "        slice_df.insert(0, 'number', i) # insert a column into this dataframe that contains the record number\n",
    "        slice_df.insert(0, 'total', total) # insert a column into this dataframe that contains the total weights\n",
    "        feature_df = feature_df.append(slice_df, ignore_index=True, verify_integrity=False) \n",
    "        if (i % interval == 0):\n",
    "            print ('Completed interation: ' + str(i))\n",
    " "
   ]
  },
  {
   "cell_type": "code",
   "execution_count": 387,
   "metadata": {
    "collapsed": true
   },
   "outputs": [],
   "source": [
    "## create an empty dataframe with 1001 columns\n",
    "feature_df = pd.DataFrame(index=range(0,1001)).transpose()"
   ]
  },
  {
   "cell_type": "markdown",
   "metadata": {},
   "source": [
    "Now, let's process all 49,352 records and report every 200 iterations."
   ]
  },
  {
   "cell_type": "code",
   "execution_count": 388,
   "metadata": {},
   "outputs": [
    {
     "name": "stderr",
     "output_type": "stream",
     "text": [
      "C:\\Users\\scott\\Anaconda2\\envs\\py36\\lib\\site-packages\\pandas\\core\\indexes\\range.py:433: RuntimeWarning: '<' not supported between instances of 'int' and 'str', sort order is undefined for incomparable objects\n",
      "  return self._int64index.union(other)\n"
     ]
    },
    {
     "name": "stdout",
     "output_type": "stream",
     "text": [
      "Completed interation: 0\n",
      "Completed interation: 200\n",
      "Completed interation: 400\n",
      "Completed interation: 600\n",
      "Completed interation: 800\n",
      "Completed interation: 1000\n",
      "Completed interation: 1200\n",
      "Completed interation: 1400\n",
      "Completed interation: 1600\n",
      "Completed interation: 1800\n",
      "Completed interation: 2000\n",
      "Completed interation: 2200\n",
      "Completed interation: 2400\n",
      "Completed interation: 2600\n",
      "Completed interation: 2800\n",
      "Completed interation: 3000\n",
      "Completed interation: 3200\n",
      "Completed interation: 3400\n",
      "Completed interation: 3600\n",
      "Completed interation: 3800\n",
      "Completed interation: 4000\n",
      "Completed interation: 4200\n",
      "Completed interation: 4400\n",
      "Completed interation: 4600\n",
      "Completed interation: 4800\n",
      "Completed interation: 5000\n",
      "Completed interation: 5200\n",
      "Completed interation: 5400\n",
      "Completed interation: 5600\n",
      "Completed interation: 5800\n",
      "Completed interation: 6000\n",
      "Completed interation: 6200\n",
      "Completed interation: 6400\n",
      "Completed interation: 6600\n",
      "Completed interation: 6800\n",
      "Completed interation: 7000\n",
      "Completed interation: 7200\n",
      "Completed interation: 7400\n",
      "Completed interation: 7600\n",
      "Completed interation: 7800\n",
      "Completed interation: 8000\n",
      "Completed interation: 8200\n",
      "Completed interation: 8400\n",
      "Completed interation: 8600\n",
      "Completed interation: 8800\n",
      "Completed interation: 9000\n",
      "Completed interation: 9200\n",
      "Completed interation: 9400\n",
      "Completed interation: 9600\n",
      "Completed interation: 9800\n",
      "Completed interation: 10000\n",
      "Completed interation: 10200\n",
      "Completed interation: 10400\n",
      "Completed interation: 10600\n",
      "Completed interation: 10800\n",
      "Completed interation: 11000\n",
      "Completed interation: 11200\n",
      "Completed interation: 11400\n",
      "Completed interation: 11600\n",
      "Completed interation: 11800\n",
      "Completed interation: 12000\n",
      "Completed interation: 12200\n",
      "Completed interation: 12400\n",
      "Completed interation: 12600\n",
      "Completed interation: 12800\n",
      "Completed interation: 13000\n",
      "Completed interation: 13200\n",
      "Completed interation: 13400\n",
      "Completed interation: 13600\n",
      "Completed interation: 13800\n",
      "Completed interation: 14000\n",
      "Completed interation: 14200\n",
      "Completed interation: 14400\n",
      "Completed interation: 14600\n",
      "Completed interation: 14800\n",
      "Completed interation: 15000\n",
      "Completed interation: 15200\n",
      "Completed interation: 15400\n",
      "Completed interation: 15600\n",
      "Completed interation: 15800\n",
      "Completed interation: 16000\n",
      "Completed interation: 16200\n",
      "Completed interation: 16400\n",
      "Completed interation: 16600\n",
      "Completed interation: 16800\n",
      "Completed interation: 17000\n",
      "Completed interation: 17200\n",
      "Completed interation: 17400\n",
      "Completed interation: 17600\n",
      "Completed interation: 17800\n",
      "Completed interation: 18000\n",
      "Completed interation: 18200\n",
      "Completed interation: 18400\n",
      "Completed interation: 18600\n",
      "Completed interation: 18800\n",
      "Completed interation: 19000\n",
      "Completed interation: 19200\n",
      "Completed interation: 19400\n",
      "Completed interation: 19600\n",
      "Completed interation: 19800\n",
      "Completed interation: 20000\n",
      "Completed interation: 20200\n",
      "Completed interation: 20400\n",
      "Completed interation: 20600\n",
      "Completed interation: 20800\n",
      "Completed interation: 21000\n",
      "Completed interation: 21200\n",
      "Completed interation: 21400\n",
      "Completed interation: 21600\n",
      "Completed interation: 21800\n",
      "Completed interation: 22000\n",
      "Completed interation: 22200\n",
      "Completed interation: 22400\n",
      "Completed interation: 22600\n",
      "Completed interation: 22800\n",
      "Completed interation: 23000\n",
      "Completed interation: 23200\n",
      "Completed interation: 23400\n",
      "Completed interation: 23600\n",
      "Completed interation: 23800\n",
      "Completed interation: 24000\n",
      "Completed interation: 24200\n",
      "Completed interation: 24400\n",
      "Completed interation: 24600\n",
      "Completed interation: 24800\n",
      "Completed interation: 25000\n",
      "Completed interation: 25200\n",
      "Completed interation: 25400\n",
      "Completed interation: 25600\n",
      "Completed interation: 25800\n",
      "Completed interation: 26000\n",
      "Completed interation: 26200\n",
      "Completed interation: 26400\n",
      "Completed interation: 26600\n",
      "Completed interation: 26800\n",
      "Completed interation: 27000\n",
      "Completed interation: 27200\n",
      "Completed interation: 27400\n",
      "Completed interation: 27600\n",
      "Completed interation: 27800\n",
      "Completed interation: 28000\n",
      "Completed interation: 28200\n",
      "Completed interation: 28400\n",
      "Completed interation: 28600\n",
      "Completed interation: 28800\n",
      "Completed interation: 29000\n",
      "Completed interation: 29200\n",
      "Completed interation: 29400\n",
      "Completed interation: 29600\n",
      "Completed interation: 29800\n",
      "Completed interation: 30000\n",
      "Completed interation: 30200\n",
      "Completed interation: 30400\n",
      "Completed interation: 30600\n",
      "Completed interation: 30800\n",
      "Completed interation: 31000\n",
      "Completed interation: 31200\n",
      "Completed interation: 31400\n",
      "Completed interation: 31600\n",
      "Completed interation: 31800\n",
      "Completed interation: 32000\n",
      "Completed interation: 32200\n",
      "Completed interation: 32400\n",
      "Completed interation: 32600\n",
      "Completed interation: 32800\n",
      "Completed interation: 33000\n",
      "Completed interation: 33200\n",
      "Completed interation: 33400\n",
      "Completed interation: 33600\n",
      "Completed interation: 33800\n",
      "Completed interation: 34000\n",
      "Completed interation: 34200\n",
      "Completed interation: 34400\n",
      "Completed interation: 34600\n",
      "Completed interation: 34800\n",
      "Completed interation: 35000\n",
      "Completed interation: 35200\n",
      "Completed interation: 35400\n",
      "Completed interation: 35600\n",
      "Completed interation: 35800\n",
      "Completed interation: 36000\n",
      "Completed interation: 36200\n",
      "Completed interation: 36400\n",
      "Completed interation: 36600\n",
      "Completed interation: 36800\n",
      "Completed interation: 37000\n",
      "Completed interation: 37200\n",
      "Completed interation: 37400\n",
      "Completed interation: 37600\n",
      "Completed interation: 37800\n",
      "Completed interation: 38000\n",
      "Completed interation: 38200\n",
      "Completed interation: 38400\n",
      "Completed interation: 38600\n",
      "Completed interation: 38800\n",
      "Completed interation: 39000\n",
      "Completed interation: 39200\n",
      "Completed interation: 39400\n",
      "Completed interation: 39600\n",
      "Completed interation: 39800\n",
      "Completed interation: 40000\n",
      "Completed interation: 40200\n",
      "Completed interation: 40400\n",
      "Completed interation: 40600\n",
      "Completed interation: 40800\n",
      "Completed interation: 41000\n",
      "Completed interation: 41200\n",
      "Completed interation: 41400\n",
      "Completed interation: 41600\n",
      "Completed interation: 41800\n",
      "Completed interation: 42000\n",
      "Completed interation: 42200\n",
      "Completed interation: 42400\n",
      "Completed interation: 42600\n",
      "Completed interation: 42800\n",
      "Completed interation: 43000\n",
      "Completed interation: 43200\n",
      "Completed interation: 43400\n",
      "Completed interation: 43600\n",
      "Completed interation: 43800\n",
      "Completed interation: 44000\n",
      "Completed interation: 44200\n",
      "Completed interation: 44400\n",
      "Completed interation: 44600\n",
      "Completed interation: 44800\n",
      "Completed interation: 45000\n",
      "Completed interation: 45200\n",
      "Completed interation: 45400\n",
      "Completed interation: 45600\n",
      "Completed interation: 45800\n",
      "Completed interation: 46000\n",
      "Completed interation: 46200\n",
      "Completed interation: 46400\n",
      "Completed interation: 46600\n",
      "Completed interation: 46800\n",
      "Completed interation: 47000\n",
      "Completed interation: 47200\n",
      "Completed interation: 47400\n",
      "Completed interation: 47600\n",
      "Completed interation: 47800\n",
      "Completed interation: 48000\n",
      "Completed interation: 48200\n",
      "Completed interation: 48400\n",
      "Completed interation: 48600\n",
      "Completed interation: 48800\n",
      "Completed interation: 49000\n",
      "Completed interation: 49200\n",
      "58894.387051820755\n"
     ]
    }
   ],
   "source": [
    "start = time.time()\n",
    "Iterate_images(0, 49351, 200)\n",
    "end = time.time()\n",
    "print(end-start)"
   ]
  },
  {
   "cell_type": "markdown",
   "metadata": {},
   "source": [
    "I wrote this out to a csv.  I'll now test this by reading it in, and verify that it's in the correct order by comparing the 'number' column with the index on the far left.  They match so we're good to go."
   ]
  },
  {
   "cell_type": "code",
   "execution_count": 391,
   "metadata": {},
   "outputs": [],
   "source": [
    "test_df = pd.read_csv('image_features.csv')"
   ]
  },
  {
   "cell_type": "code",
   "execution_count": 393,
   "metadata": {},
   "outputs": [
    {
     "data": {
      "text/html": [
       "<div>\n",
       "<style>\n",
       "    .dataframe thead tr:only-child th {\n",
       "        text-align: right;\n",
       "    }\n",
       "\n",
       "    .dataframe thead th {\n",
       "        text-align: left;\n",
       "    }\n",
       "\n",
       "    .dataframe tbody tr th {\n",
       "        vertical-align: top;\n",
       "    }\n",
       "</style>\n",
       "<table border=\"1\" class=\"dataframe\">\n",
       "  <thead>\n",
       "    <tr style=\"text-align: right;\">\n",
       "      <th></th>\n",
       "      <th>Unnamed: 0</th>\n",
       "      <th>0</th>\n",
       "      <th>1</th>\n",
       "      <th>2</th>\n",
       "      <th>3</th>\n",
       "      <th>4</th>\n",
       "      <th>5</th>\n",
       "      <th>6</th>\n",
       "      <th>7</th>\n",
       "      <th>8</th>\n",
       "      <th>...</th>\n",
       "      <th>994</th>\n",
       "      <th>995</th>\n",
       "      <th>996</th>\n",
       "      <th>997</th>\n",
       "      <th>998</th>\n",
       "      <th>999</th>\n",
       "      <th>1000</th>\n",
       "      <th>total</th>\n",
       "      <th>number</th>\n",
       "      <th>url</th>\n",
       "    </tr>\n",
       "  </thead>\n",
       "  <tbody>\n",
       "    <tr>\n",
       "      <th>49347</th>\n",
       "      <td>49347</td>\n",
       "      <td>0.0</td>\n",
       "      <td>0.0</td>\n",
       "      <td>0.0</td>\n",
       "      <td>0.0</td>\n",
       "      <td>0.0</td>\n",
       "      <td>0.0</td>\n",
       "      <td>0.0</td>\n",
       "      <td>0.0</td>\n",
       "      <td>0.0</td>\n",
       "      <td>...</td>\n",
       "      <td>0.0</td>\n",
       "      <td>0.0</td>\n",
       "      <td>0.0</td>\n",
       "      <td>0.0</td>\n",
       "      <td>0.0</td>\n",
       "      <td>0.001527</td>\n",
       "      <td>NaN</td>\n",
       "      <td>0.949521</td>\n",
       "      <td>49347.0</td>\n",
       "      <td>https://photos.renthop.com/2/7098690_18396d32e...</td>\n",
       "    </tr>\n",
       "    <tr>\n",
       "      <th>49348</th>\n",
       "      <td>49348</td>\n",
       "      <td>0.0</td>\n",
       "      <td>0.0</td>\n",
       "      <td>0.0</td>\n",
       "      <td>0.0</td>\n",
       "      <td>0.0</td>\n",
       "      <td>0.0</td>\n",
       "      <td>0.0</td>\n",
       "      <td>0.0</td>\n",
       "      <td>0.0</td>\n",
       "      <td>...</td>\n",
       "      <td>0.0</td>\n",
       "      <td>0.0</td>\n",
       "      <td>0.0</td>\n",
       "      <td>0.0</td>\n",
       "      <td>0.0</td>\n",
       "      <td>0.000000</td>\n",
       "      <td>NaN</td>\n",
       "      <td>0.953400</td>\n",
       "      <td>49348.0</td>\n",
       "      <td>https://photos.renthop.com/2/6822449_b429587b7...</td>\n",
       "    </tr>\n",
       "    <tr>\n",
       "      <th>49349</th>\n",
       "      <td>49349</td>\n",
       "      <td>0.0</td>\n",
       "      <td>0.0</td>\n",
       "      <td>0.0</td>\n",
       "      <td>0.0</td>\n",
       "      <td>0.0</td>\n",
       "      <td>0.0</td>\n",
       "      <td>0.0</td>\n",
       "      <td>0.0</td>\n",
       "      <td>0.0</td>\n",
       "      <td>...</td>\n",
       "      <td>0.0</td>\n",
       "      <td>0.0</td>\n",
       "      <td>0.0</td>\n",
       "      <td>0.0</td>\n",
       "      <td>0.0</td>\n",
       "      <td>0.000000</td>\n",
       "      <td>NaN</td>\n",
       "      <td>0.913889</td>\n",
       "      <td>49349.0</td>\n",
       "      <td>https://photos.renthop.com/2/6881461_20a865305...</td>\n",
       "    </tr>\n",
       "    <tr>\n",
       "      <th>49350</th>\n",
       "      <td>49350</td>\n",
       "      <td>0.0</td>\n",
       "      <td>0.0</td>\n",
       "      <td>0.0</td>\n",
       "      <td>0.0</td>\n",
       "      <td>0.0</td>\n",
       "      <td>0.0</td>\n",
       "      <td>0.0</td>\n",
       "      <td>0.0</td>\n",
       "      <td>0.0</td>\n",
       "      <td>...</td>\n",
       "      <td>0.0</td>\n",
       "      <td>0.0</td>\n",
       "      <td>0.0</td>\n",
       "      <td>0.0</td>\n",
       "      <td>0.0</td>\n",
       "      <td>0.000000</td>\n",
       "      <td>NaN</td>\n",
       "      <td>0.990323</td>\n",
       "      <td>49350.0</td>\n",
       "      <td>https://photos.renthop.com/2/6841891_124c9c446...</td>\n",
       "    </tr>\n",
       "    <tr>\n",
       "      <th>49351</th>\n",
       "      <td>49351</td>\n",
       "      <td>0.0</td>\n",
       "      <td>0.0</td>\n",
       "      <td>0.0</td>\n",
       "      <td>0.0</td>\n",
       "      <td>0.0</td>\n",
       "      <td>0.0</td>\n",
       "      <td>0.0</td>\n",
       "      <td>0.0</td>\n",
       "      <td>0.0</td>\n",
       "      <td>...</td>\n",
       "      <td>0.0</td>\n",
       "      <td>0.0</td>\n",
       "      <td>0.0</td>\n",
       "      <td>0.0</td>\n",
       "      <td>0.0</td>\n",
       "      <td>0.000000</td>\n",
       "      <td>NaN</td>\n",
       "      <td>0.929024</td>\n",
       "      <td>49351.0</td>\n",
       "      <td>https://photos.renthop.com/2/6858245_c4380bde9...</td>\n",
       "    </tr>\n",
       "  </tbody>\n",
       "</table>\n",
       "<p>5 rows × 1005 columns</p>\n",
       "</div>"
      ],
      "text/plain": [
       "       Unnamed: 0    0    1    2    3    4    5    6    7    8  \\\n",
       "49347       49347  0.0  0.0  0.0  0.0  0.0  0.0  0.0  0.0  0.0   \n",
       "49348       49348  0.0  0.0  0.0  0.0  0.0  0.0  0.0  0.0  0.0   \n",
       "49349       49349  0.0  0.0  0.0  0.0  0.0  0.0  0.0  0.0  0.0   \n",
       "49350       49350  0.0  0.0  0.0  0.0  0.0  0.0  0.0  0.0  0.0   \n",
       "49351       49351  0.0  0.0  0.0  0.0  0.0  0.0  0.0  0.0  0.0   \n",
       "\n",
       "                             ...                          994  995  996  997  \\\n",
       "49347                        ...                          0.0  0.0  0.0  0.0   \n",
       "49348                        ...                          0.0  0.0  0.0  0.0   \n",
       "49349                        ...                          0.0  0.0  0.0  0.0   \n",
       "49350                        ...                          0.0  0.0  0.0  0.0   \n",
       "49351                        ...                          0.0  0.0  0.0  0.0   \n",
       "\n",
       "       998       999  1000     total   number  \\\n",
       "49347  0.0  0.001527   NaN  0.949521  49347.0   \n",
       "49348  0.0  0.000000   NaN  0.953400  49348.0   \n",
       "49349  0.0  0.000000   NaN  0.913889  49349.0   \n",
       "49350  0.0  0.000000   NaN  0.990323  49350.0   \n",
       "49351  0.0  0.000000   NaN  0.929024  49351.0   \n",
       "\n",
       "                                                     url  \n",
       "49347  https://photos.renthop.com/2/7098690_18396d32e...  \n",
       "49348  https://photos.renthop.com/2/6822449_b429587b7...  \n",
       "49349  https://photos.renthop.com/2/6881461_20a865305...  \n",
       "49350  https://photos.renthop.com/2/6841891_124c9c446...  \n",
       "49351  https://photos.renthop.com/2/6858245_c4380bde9...  \n",
       "\n",
       "[5 rows x 1005 columns]"
      ]
     },
     "execution_count": 393,
     "metadata": {},
     "output_type": "execute_result"
    }
   ],
   "source": [
    "test_df.tail()"
   ]
  },
  {
   "cell_type": "code",
   "execution_count": 394,
   "metadata": {},
   "outputs": [
    {
     "data": {
      "text/plain": [
       "16.359444444444446"
      ]
     },
     "execution_count": 394,
     "metadata": {},
     "output_type": "execute_result"
    }
   ],
   "source": [
    "58894/3600\n"
   ]
  },
  {
   "cell_type": "markdown",
   "metadata": {},
   "source": [
    "Total process time was approximately 16.4 hours."
   ]
  }
 ],
 "metadata": {
  "kernelspec": {
   "display_name": "Python 3",
   "language": "python",
   "name": "python3"
  },
  "language_info": {
   "codemirror_mode": {
    "name": "ipython",
    "version": 3
   },
   "file_extension": ".py",
   "mimetype": "text/x-python",
   "name": "python",
   "nbconvert_exporter": "python",
   "pygments_lexer": "ipython3",
   "version": "3.6.1"
  }
 },
 "nbformat": 4,
 "nbformat_minor": 2
}

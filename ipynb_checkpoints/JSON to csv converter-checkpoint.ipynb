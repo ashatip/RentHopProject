{
 "cells": [
  {
   "cell_type": "markdown",
   "metadata": {},
   "source": [
    "## Code to Read json, clean the data, and write to csv\n",
    "\n",
    "First, let's change the display width so all data is displayed when outputting."
   ]
  },
  {
   "cell_type": "code",
   "execution_count": 1,
   "metadata": {
    "collapsed": true
   },
   "outputs": [],
   "source": [
    "import pandas as pd\n",
    "pd.options.display.max_colwidth = 1000"
   ]
  },
  {
   "cell_type": "markdown",
   "metadata": {},
   "source": [
    "Next, we import the json data into a pandas dataframe.  We then clean the data by removing unwanted character strings from three text columns: 'description', 'display_address' , and 'street_address'.  Lastly, we write the the cleaned dataframe out to a csv.  Note that the character string '\\r' indicates a carriage return.  This is what caused the csv to become corrupted."
   ]
  },
  {
   "cell_type": "code",
   "execution_count": 2,
   "metadata": {
    "collapsed": false
   },
   "outputs": [],
   "source": [
    "train_df = pd.read_json('train.json')\n",
    "train_df = train_df.reset_index() # Reset the index to start from zero\n",
    "del train_df['index'] # Deleate the old index\n",
    "\n",
    "### Let's first deal with the 'description' column\n",
    "train_df['clean_description']= train_df['description'].str.replace('\\r', ' ') # Carriage Return\n",
    "train_df['clean_description']= train_df['clean_description'].str.replace('<br />', ' ') # HTML tag\n",
    "train_df['clean_description']= train_df['clean_description'].str.replace('<br/>', ' ') # HTML tag\n",
    "del train_df['description'] # Delete the old 'description' column\n",
    "\n",
    "### Next we deal with the 'display_address' column\n",
    "train_df['clean_display_address']= train_df['display_address'].str.replace('\\r', ' ')\n",
    "train_df['clean_display_address']= train_df['clean_display_address'].str.replace('<br />', ' ')\n",
    "train_df['clean_display_address']= train_df['clean_display_address'].str.replace('<br/>', ' ')\n",
    "del train_df['display_address']\n",
    "\n",
    "### Lastly, we deal with the 'street_address' column\n",
    "train_df['clean_street_address']= train_df['street_address'].str.replace('\\r', ' ')\n",
    "train_df['clean_street_address']= train_df['clean_street_address'].str.replace('<br />', ' ')\n",
    "train_df['clean_street_address']= train_df['clean_street_address'].str.replace('<br/>', ' ')\n",
    "del train_df['street_address']\n",
    "\n",
    "### We now rename the 'clean' columns to the original columns\n",
    "train_df.rename(columns={'clean_street_address':'street_address'}, inplace=True)\n",
    "train_df.rename(columns={'clean_display_address':'display_address'}, inplace=True)\n",
    "train_df.rename(columns={'clean_description':'description'}, inplace=True)\n",
    "\n",
    "### Write to a csv\n",
    "train_df.to_csv('project_train.csv', header=True, index=False, encoding='utf-8')"
   ]
  },
  {
   "cell_type": "markdown",
   "metadata": {
    "collapsed": true
   },
   "source": [
    "We test to see if we can read the csv that we just wrote."
   ]
  },
  {
   "cell_type": "code",
   "execution_count": 3,
   "metadata": {
    "collapsed": false
   },
   "outputs": [],
   "source": [
    "csv_df = pd.read_csv('project_train.csv')"
   ]
  },
  {
   "cell_type": "markdown",
   "metadata": {},
   "source": [
    "The code below was used to debug the problem by eximining a specific row with problems and then determine if the data was indeed cleaned up. "
   ]
  },
  {
   "cell_type": "code",
   "execution_count": 4,
   "metadata": {
    "collapsed": false
   },
   "outputs": [],
   "source": [
    "record = train_df[train_df['listing_id']==6890852]"
   ]
  },
  {
   "cell_type": "code",
   "execution_count": 5,
   "metadata": {
    "collapsed": false
   },
   "outputs": [],
   "source": [
    "temp = train_df[train_df['listing_id']==6890852]['description']"
   ]
  },
  {
   "cell_type": "code",
   "execution_count": 6,
   "metadata": {
    "collapsed": false
   },
   "outputs": [
    {
     "data": {
      "text/plain": [
       "275    * GREAT VALUE * STUDIO @ 78th / York * PETS OK * CALL NOW  MARIANA PASIN  547-183-5661  FALO PORTUGUES\n",
       "Name: description, dtype: object"
      ]
     },
     "execution_count": 6,
     "metadata": {},
     "output_type": "execute_result"
    }
   ],
   "source": [
    "temp"
   ]
  },
  {
   "cell_type": "code",
   "execution_count": 7,
   "metadata": {
    "collapsed": false
   },
   "outputs": [
    {
     "data": {
      "text/html": [
       "<div>\n",
       "<table border=\"1\" class=\"dataframe\">\n",
       "  <thead>\n",
       "    <tr style=\"text-align: right;\">\n",
       "      <th></th>\n",
       "      <th>bathrooms</th>\n",
       "      <th>bedrooms</th>\n",
       "      <th>building_id</th>\n",
       "      <th>created</th>\n",
       "      <th>features</th>\n",
       "      <th>interest_level</th>\n",
       "      <th>latitude</th>\n",
       "      <th>listing_id</th>\n",
       "      <th>longitude</th>\n",
       "      <th>manager_id</th>\n",
       "      <th>photos</th>\n",
       "      <th>price</th>\n",
       "      <th>description</th>\n",
       "      <th>display_address</th>\n",
       "      <th>street_address</th>\n",
       "    </tr>\n",
       "  </thead>\n",
       "  <tbody>\n",
       "    <tr>\n",
       "      <th>275</th>\n",
       "      <td>1.0</td>\n",
       "      <td>0</td>\n",
       "      <td>1f8073b8d33c0b499be89854f5700367</td>\n",
       "      <td>2016-04-18 11:23:37</td>\n",
       "      <td>[]</td>\n",
       "      <td>medium</td>\n",
       "      <td>40.7706</td>\n",
       "      <td>6890852</td>\n",
       "      <td>-73.9501</td>\n",
       "      <td>624c1fbd75e5f99e6a7164cce1b1b8a4</td>\n",
       "      <td>[https://photos.renthop.com/2/6890852_a69d3cb0477ac7deb42a3928bb2f60f1.jpg, https://photos.renthop.com/2/6890852_461c1738dcbaf66db00870d5f137ba2d.jpg, https://photos.renthop.com/2/6890852_d833ad1e3c6b5e7fc3a787d7f5926026.jpg, https://photos.renthop.com/2/6890852_593a4a38b081f42d26aec48ab5cd903b.jpg]</td>\n",
       "      <td>1750</td>\n",
       "      <td>* GREAT VALUE * STUDIO @ 78th / York * PETS OK * CALL NOW  MARIANA PASIN  547-183-5661  FALO PORTUGUES</td>\n",
       "      <td>East 78th * PRIME UES *</td>\n",
       "      <td>509 East 78th</td>\n",
       "    </tr>\n",
       "  </tbody>\n",
       "</table>\n",
       "</div>"
      ],
      "text/plain": [
       "     bathrooms  bedrooms                       building_id  \\\n",
       "275        1.0         0  1f8073b8d33c0b499be89854f5700367   \n",
       "\n",
       "                 created features interest_level  latitude  listing_id  \\\n",
       "275  2016-04-18 11:23:37       []         medium   40.7706     6890852   \n",
       "\n",
       "     longitude                        manager_id  \\\n",
       "275   -73.9501  624c1fbd75e5f99e6a7164cce1b1b8a4   \n",
       "\n",
       "                                                                                                                                                                                                                                                                                                           photos  \\\n",
       "275  [https://photos.renthop.com/2/6890852_a69d3cb0477ac7deb42a3928bb2f60f1.jpg, https://photos.renthop.com/2/6890852_461c1738dcbaf66db00870d5f137ba2d.jpg, https://photos.renthop.com/2/6890852_d833ad1e3c6b5e7fc3a787d7f5926026.jpg, https://photos.renthop.com/2/6890852_593a4a38b081f42d26aec48ab5cd903b.jpg]   \n",
       "\n",
       "     price  \\\n",
       "275   1750   \n",
       "\n",
       "                                                                                                description  \\\n",
       "275  * GREAT VALUE * STUDIO @ 78th / York * PETS OK * CALL NOW  MARIANA PASIN  547-183-5661  FALO PORTUGUES   \n",
       "\n",
       "              display_address street_address  \n",
       "275  East 78th * PRIME UES *   509 East 78th  "
      ]
     },
     "execution_count": 7,
     "metadata": {},
     "output_type": "execute_result"
    }
   ],
   "source": [
    "record"
   ]
  }
 ],
 "metadata": {
  "kernelspec": {
   "display_name": "Python (gl-env)",
   "language": "python",
   "name": "gl-env"
  },
  "language_info": {
   "codemirror_mode": {
    "name": "ipython",
    "version": 2
   },
   "file_extension": ".py",
   "mimetype": "text/x-python",
   "name": "python",
   "nbconvert_exporter": "python",
   "pygments_lexer": "ipython2",
   "version": "2.7.14"
  }
 },
 "nbformat": 4,
 "nbformat_minor": 0
}
